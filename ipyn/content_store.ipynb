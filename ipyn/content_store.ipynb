{
 "cells": [
  {
   "cell_type": "code",
   "execution_count": 1,
   "metadata": {},
   "outputs": [],
   "source": [
    "import re\n",
    "import requests\n",
    "import pandas as pd\n",
    "import numpy as np\n",
    "from bs4 import BeautifulSoup\n",
    "from pymongo import MongoClient"
   ]
  },
  {
   "cell_type": "code",
   "execution_count": 2,
   "metadata": {},
   "outputs": [],
   "source": [
    "def format_cat_name(cat_name): \n",
    "    cat_name = re.sub('\\s','_', cat_name)\n",
    "    return cat_name"
   ]
  },
  {
   "cell_type": "code",
   "execution_count": 3,
   "metadata": {},
   "outputs": [],
   "source": [
    "def go_query(cat_name):\n",
    "    cate_name = format_cat_name(cat_name)\n",
    "    params = {\"action\": \"query\",\n",
    "            \"format\": \"json\",\n",
    "            \"list\": \"categorymembers\",\n",
    "            \"cmtitle\": cate_name,\n",
    "            \"cmlimit\": \"max\"}\n",
    "    query = requests.get(\"http://en.wikipedia.org/w/api.php?\",params=params)\n",
    "    \n",
    "    return query.json()"
   ]
  },
  {
   "cell_type": "code",
   "execution_count": 4,
   "metadata": {},
   "outputs": [],
   "source": [
    "def json_df(cat_name):\n",
    "    temp_dict = go_query(cat_name)\n",
    "    df = pd.DataFrame(temp_dict['query']['categorymembers'])\n",
    "    return df"
   ]
  },
  {
   "cell_type": "code",
   "execution_count": 5,
   "metadata": {},
   "outputs": [],
   "source": [
    "def cat_pages(cat_name, max_depth=3):\n",
    "    \n",
    "    params = {'action':'query',\n",
    "          'format':'json',\n",
    "          'list':'categorymembers',\n",
    "          'cmtitle': format_cat_name(cat_name),\n",
    "          'cmlimit':'max'}\n",
    "    \n",
    "    \n",
    "    response = requests.get('http://en.wikipedia.org/w/api.php?', params=params)\n",
    "    data = response.json()\n",
    "    \n",
    "    members = data['query']['categorymembers']\n",
    "\n",
    "    pages = list(filter(lambda x: x['ns'] == 0, members))\n",
    "    subpages = list(filter(lambda x: x['ns'] == 14, members))\n",
    "      \n",
    "    while max_depth > 0:\n",
    " \n",
    "        if not subpages:    \n",
    "            return pages\n",
    "    \n",
    "        else:\n",
    "            max_depth -= 1\n",
    "            for subpage in subpages:\n",
    "                pages += cat_pages(subpage['title'], max_depth)\n",
    "    \n",
    "    return pages"
   ]
  },
  {
   "cell_type": "code",
   "execution_count": 6,
   "metadata": {},
   "outputs": [],
   "source": [
    "def page_list(cat_name):\n",
    "    pages = cat_pages(format_cat_name(cat_name))\n",
    "    pages_df = pd.DataFrame(pages)\n",
    "    page_list = list(pages_df['title'])\n",
    "    return page_list"
   ]
  },
  {
   "cell_type": "code",
   "execution_count": 7,
   "metadata": {},
   "outputs": [],
   "source": [
    "def get_content(cat_name):\n",
    "    params = {'action':'query',\n",
    "          'titles':format_cat_name(cat_name),\n",
    "          'prop':'extracts',\n",
    "          'rvprop': 'content',\n",
    "          'format':'json'}\n",
    "    \n",
    "    response = requests.get('http://en.wikipedia.org/w/api.php?', params=params)\n",
    "    data = response.json()\n",
    "    return_data = data['query']['pages']\n",
    "    \n",
    "    page_id = list(return_data.keys())[0]\n",
    "    content = return_data[page_id]['extract']\n",
    "    title = format_cat_name(cat_name)\n",
    "    \n",
    "    content_df = pd.DataFrame([page_id, title, content],index=(['page_id', 'title', 'content'])).T\n",
    "    \n",
    "    return content"
   ]
  },
  {
   "cell_type": "code",
   "execution_count": 8,
   "metadata": {},
   "outputs": [],
   "source": [
    "def get_content_df(cat_name):\n",
    "    params = {'action':'query',\n",
    "          'titles':format_cat_name(cat_name),\n",
    "          'prop':'extracts',\n",
    "          'rvprop': 'content',\n",
    "          'format':'json'}\n",
    "    \n",
    "    response = requests.get('http://en.wikipedia.org/w/api.php?', params=params)\n",
    "    data = response.json()\n",
    "    return_data = data['query']['pages']\n",
    "    \n",
    "    page_id = list(return_data.keys())[0]\n",
    "    content = return_data[page_id]['extract']\n",
    "    soup = BeautifulSoup(content,\"html5lib\")\n",
    "    \n",
    "    temp_list=[]\n",
    "    for string in soup.stripped_strings:\n",
    "        temp_list.append(string)\n",
    "    \n",
    "    #s=''\n",
    "    #clean = s.join(temp_list)\n",
    "    \n",
    "    \n",
    "    \n",
    "    title = format_cat_name(cat_name)\n",
    "    \n",
    "    content_df = pd.DataFrame([page_id, title, clean],index=(['page_id', 'title', 'content'])).T\n",
    "    \n",
    "    return content_df"
   ]
  },
  {
   "cell_type": "code",
   "execution_count": 16,
   "metadata": {},
   "outputs": [],
   "source": [
    "def clean_content(cat_name):\n",
    "    page = get_content(cat_name) \n",
    "    soup = BeautifulSoup(page, \"html5lib\")\n",
    "    temp_list=[]\n",
    "    for string in soup.stripped_strings:\n",
    "        temp_list.append(string)\n",
    "    \n",
    "    s=''\n",
    "    clean = s.join(temp_list)\n",
    "\n",
    "    return clean "
   ]
  },
  {
   "cell_type": "code",
   "execution_count": 10,
   "metadata": {},
   "outputs": [],
   "source": [
    "def get_content_df(cat_name):\n",
    "    params = {'action':'query',\n",
    "          'titles':format_cat_name(cat_name),\n",
    "          'prop':'extracts',\n",
    "          'rvprop': 'content',\n",
    "          'format':'json'}\n",
    "    \n",
    "    response = requests.get('http://en.wikipedia.org/w/api.php?', params=params)\n",
    "    data = response.json()\n",
    "    return_data = data['query']['pages']\n",
    "    \n",
    "    page_id = list(return_data.keys())[0]\n",
    "    content = return_data[page_id]['extract']\n",
    "    soup = BeautifulSoup(content,\"html5lib\")\n",
    "    \n",
    "    temp_str=str()\n",
    "    for string in soup.stripped_strings:\n",
    "        temp_str += string \n",
    "    \n",
    "    \n",
    "    #clean = str(temp_list)\n",
    "    \n",
    "    title = format_cat_name(cat_name)\n",
    "    \n",
    "    content_df = pd.DataFrame([page_id, title, temp_str],index=(['page_id', 'title', 'content'])).T\n",
    "    \n",
    "    \n",
    "    return content_df"
   ]
  },
  {
   "cell_type": "code",
   "execution_count": 11,
   "metadata": {},
   "outputs": [],
   "source": [
    "#Mongo client IP\n",
    "client = MongoClient('54.190.53.213', 27016)"
   ]
  },
  {
   "cell_type": "code",
   "execution_count": 13,
   "metadata": {},
   "outputs": [],
   "source": [
    "db_ref = client.my_database\n",
    "db_wiki_ref = db_ref.my_wikipedia"
   ]
  },
  {
   "cell_type": "code",
   "execution_count": 14,
   "metadata": {},
   "outputs": [],
   "source": [
    "db_wiki_whole_ref = db_ref.my_wikipedia_all"
   ]
  },
  {
   "cell_type": "code",
   "execution_count": 17,
   "metadata": {},
   "outputs": [],
   "source": [
    "#Wiki Collection Process for Machine Learning Categories\n",
    "\n",
    "#Create list with set so duplicates are gone\n",
    "ml_page_list = set(page_list(\"Category:Machine learning\"))\n",
    "\n",
    "#Store cleaned contents in the list \n",
    "content_list=[]\n",
    "for title in ml_page_list:\n",
    "    content_list.append(clean_content(title))\n",
    "\n",
    "#Replcae '.' with space since Mongo deosn't like keys with periods \n",
    "ml_page_list_2 = [x.replace('.',' ') for x in ml_page_list]\n",
    "\n",
    "#Create a list of dictionaries of Title:content\n",
    "new_list = []\n",
    "for i in range(len(ml_page_list_2)):\n",
    "    new_dict = {ml_page_list_2[i]:content_list[i]}\n",
    "    new_list.append(new_dict)\n",
    "\n",
    "#Store list of dictionaries to Mongo\n",
    "for i in new_list:\n",
    "    db_wiki_whole_ref.insert_one(i)"
   ]
  },
  {
   "cell_type": "code",
   "execution_count": 19,
   "metadata": {},
   "outputs": [
    {
     "data": {
      "text/plain": [
       "1106"
      ]
     },
     "execution_count": 19,
     "metadata": {},
     "output_type": "execute_result"
    }
   ],
   "source": [
    "db_wiki_whole_ref.count()"
   ]
  },
  {
   "cell_type": "code",
   "execution_count": 20,
   "metadata": {},
   "outputs": [],
   "source": [
    "db_wiki_bs_whole_ref = db_ref.my_wiki_bs_all"
   ]
  },
  {
   "cell_type": "code",
   "execution_count": 21,
   "metadata": {},
   "outputs": [],
   "source": [
    "bs_page_list = set(page_list(\"Category:Business software\"))\n",
    "\n",
    "bs_content_list=[]\n",
    "for title in bs_page_list:\n",
    "    bs_content_list.append(clean_content(title))\n",
    "\n",
    "bs_page_list_2 = [x.replace('.',' ') for x in bs_page_list]\n",
    "\n",
    "bs_new_list = []\n",
    "for i in range(len(bs_page_list_2)):\n",
    "    bs_new_dict = {bs_page_list_2[i]:bs_content_list[i]}\n",
    "    bs_new_list.append(bs_new_dict)\n",
    "\n",
    "for i in bs_new_list:\n",
    "    db_wiki_bs_whole_ref.insert_one(i)"
   ]
  }
 ],
 "metadata": {
  "kernelspec": {
   "display_name": "Python 3",
   "language": "python",
   "name": "python3"
  },
  "language_info": {
   "codemirror_mode": {
    "name": "ipython",
    "version": 3
   },
   "file_extension": ".py",
   "mimetype": "text/x-python",
   "name": "python",
   "nbconvert_exporter": "python",
   "pygments_lexer": "ipython3",
   "version": "3.6.2"
  }
 },
 "nbformat": 4,
 "nbformat_minor": 2
}
